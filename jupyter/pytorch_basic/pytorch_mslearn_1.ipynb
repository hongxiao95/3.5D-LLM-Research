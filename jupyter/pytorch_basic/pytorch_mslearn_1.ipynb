{
 "cells": [
  {
   "cell_type": "code",
   "execution_count": 1,
   "id": "73436606-789d-4b7c-9fbb-d44f864acaff",
   "metadata": {},
   "outputs": [],
   "source": [
    "import numpy as np\n",
    "import torch"
   ]
  },
  {
   "cell_type": "code",
   "execution_count": 2,
   "id": "6feb12bd",
   "metadata": {},
   "outputs": [],
   "source": [
    "data = [[1,2],[3,4]]"
   ]
  },
  {
   "cell_type": "code",
   "execution_count": 3,
   "id": "477b6cca",
   "metadata": {},
   "outputs": [],
   "source": [
    "tensor_data = torch.tensor(data)"
   ]
  },
  {
   "cell_type": "code",
   "execution_count": 4,
   "id": "b17fa4cf",
   "metadata": {},
   "outputs": [
    {
     "data": {
      "text/plain": [
       "tensor([[1, 2],\n",
       "        [3, 4]])"
      ]
     },
     "execution_count": 4,
     "metadata": {},
     "output_type": "execute_result"
    }
   ],
   "source": [
    "tensor_data"
   ]
  },
  {
   "cell_type": "code",
   "execution_count": 7,
   "id": "7b46df7c",
   "metadata": {},
   "outputs": [
    {
     "name": "stdout",
     "output_type": "stream",
     "text": [
      "Tensor from list: tensor([[1, 2],\n",
      "        [3, 4]])\n",
      "Tensor from np_array: tensor([[1, 2],\n",
      "        [3, 4]], dtype=torch.int32)\n"
     ]
    }
   ],
   "source": [
    "np_array = np.array(data)\n",
    "# 从numpy转换为torch的tensor，但是共享同一块内存\n",
    "tensor_np = torch.from_numpy(np_array)\n",
    "print(f\"Tensor from list: {tensor_data}\")\n",
    "print(f\"Tensor from np_array: {tensor_np}\")"
   ]
  },
  {
   "cell_type": "code",
   "execution_count": 11,
   "id": "11730205",
   "metadata": {},
   "outputs": [
    {
     "name": "stdout",
     "output_type": "stream",
     "text": [
      "Tensor from nparray of torch.tensor: tensor([[ 8, 16],\n",
      "        [ 9, 18]], dtype=torch.int32)\n"
     ]
    }
   ],
   "source": [
    "# 以numpy数组直接初始化tensor对象，得到的tensor是\n",
    "tensor_np2 = torch.tensor(np_array)\n",
    "print(f\"Tensor from nparray of torch.tensor: {tensor_np2}\")"
   ]
  },
  {
   "cell_type": "code",
   "execution_count": 10,
   "id": "854ce727",
   "metadata": {},
   "outputs": [
    {
     "name": "stdout",
     "output_type": "stream",
     "text": [
      "After mul nparray:[[2 4]\n",
      " [6 8]]\n",
      "After Mul tensor:tensor([[2, 4],\n",
      "        [6, 8]], dtype=torch.int32)\n"
     ]
    }
   ],
   "source": [
    "np.multiply(np_array, 2, out=np_array)\n",
    "print(f\"After mul nparray:{np_array}\")\n",
    "print(f\"After Mul tensor:{tensor_np}\")"
   ]
  },
  {
   "cell_type": "code",
   "execution_count": 11,
   "id": "7768bc3c",
   "metadata": {},
   "outputs": [
    {
     "name": "stdout",
     "output_type": "stream",
     "text": [
      "After mul Tensor np2:tensor([[1, 2],\n",
      "        [3, 4]], dtype=torch.int32)\n"
     ]
    }
   ],
   "source": [
    "print(f\"After mul Tensor np2:{tensor_np2}\")"
   ]
  },
  {
   "cell_type": "markdown",
   "id": "8c8a50f2",
   "metadata": {},
   "source": [
    "## 使用torch.from_numpy的会共享内存，直接使用torch.tensor的不会共享内存"
   ]
  },
  {
   "cell_type": "code",
   "execution_count": 13,
   "id": "f181fd2f",
   "metadata": {},
   "outputs": [],
   "source": [
    "np_array = np_array * 3"
   ]
  },
  {
   "cell_type": "code",
   "execution_count": 14,
   "id": "61eee97c",
   "metadata": {},
   "outputs": [
    {
     "name": "stdout",
     "output_type": "stream",
     "text": [
      "After * nparray:[[ 6 12]\n",
      " [18 24]]\n"
     ]
    }
   ],
   "source": [
    "print(f\"After * nparray:{np_array}\")"
   ]
  },
  {
   "cell_type": "code",
   "execution_count": 15,
   "id": "0acea04c",
   "metadata": {},
   "outputs": [
    {
     "name": "stdout",
     "output_type": "stream",
     "text": [
      "After * tensor_np:tensor([[2, 4],\n",
      "        [6, 8]], dtype=torch.int32)\n"
     ]
    }
   ],
   "source": [
    "print(f\"After * tensor_np:{tensor_np}\")"
   ]
  },
  {
   "cell_type": "markdown",
   "id": "1d935746",
   "metadata": {},
   "source": [
    "## 使用四则运算符操作np.array，结果不会同步到tensor"
   ]
  },
  {
   "cell_type": "code",
   "execution_count": 16,
   "id": "ed25e04a",
   "metadata": {},
   "outputs": [
    {
     "name": "stdout",
     "output_type": "stream",
     "text": [
      "Now nparray:[[ 6 12]\n",
      " [18 24]]\n",
      "tensor np:tensor([[ 6, 12],\n",
      "        [18, 24]], dtype=torch.int32)\n"
     ]
    }
   ],
   "source": [
    "tensor_np = torch.from_numpy(np_array)\n",
    "print(f\"Now nparray:{np_array}\\ntensor np:{tensor_np}\")"
   ]
  },
  {
   "cell_type": "code",
   "execution_count": 19,
   "id": "461a56b8",
   "metadata": {},
   "outputs": [
    {
     "name": "stdout",
     "output_type": "stream",
     "text": [
      "Now nparray:[[12 24]\n",
      " [36 48]]\n",
      "tensor np:tensor([[12, 24],\n",
      "        [36, 48]], dtype=torch.int32)\n"
     ]
    }
   ],
   "source": [
    "torch.mul(tensor_np, 2, out=tensor_np)\n",
    "print(f\"Now nparray:{np_array}\\ntensor np:{tensor_np}\")"
   ]
  },
  {
   "cell_type": "code",
   "execution_count": 20,
   "id": "d0f235af",
   "metadata": {},
   "outputs": [
    {
     "name": "stdout",
     "output_type": "stream",
     "text": [
      "Now nparray:[[ 8 20]\n",
      " [32 44]]\n",
      "tensor np:tensor([[ 8, 20],\n",
      "        [32, 44]], dtype=torch.int32)\n"
     ]
    }
   ],
   "source": [
    "np_array -= 4\n",
    "print(f\"Now nparray:{np_array}\\ntensor np:{tensor_np}\")"
   ]
  },
  {
   "cell_type": "code",
   "execution_count": 22,
   "id": "64f417e8",
   "metadata": {},
   "outputs": [
    {
     "name": "stdout",
     "output_type": "stream",
     "text": [
      "Now nparray:[[ 32  80]\n",
      " [128 176]]\n",
      "tensor np:tensor([[ 32,  80],\n",
      "        [128, 176]], dtype=torch.int32)\n"
     ]
    }
   ],
   "source": [
    "np_array *= 2\n",
    "print(f\"Now nparray:{np_array}\\ntensor np:{tensor_np}\")"
   ]
  },
  {
   "cell_type": "code",
   "execution_count": 23,
   "id": "52065f69",
   "metadata": {},
   "outputs": [
    {
     "name": "stdout",
     "output_type": "stream",
     "text": [
      "Now nparray:[[  2  50]\n",
      " [ 98 146]]\n",
      "tensor np:tensor([[ 32,  80],\n",
      "        [128, 176]], dtype=torch.int32)\n"
     ]
    }
   ],
   "source": [
    "np_array = np_array- 30\n",
    "print(f\"Now nparray:{np_array}\\ntensor np:{tensor_np}\")"
   ]
  },
  {
   "cell_type": "markdown",
   "id": "23b4adeb",
   "metadata": {},
   "source": [
    "## op=运算符，不会改变原引用的地址，所以仍然可以实现np和tensor的共享，而 x = x op a则不行,同时，矩阵乘法不支持op="
   ]
  },
  {
   "cell_type": "code",
   "execution_count": 33,
   "id": "01278842",
   "metadata": {},
   "outputs": [],
   "source": [
    "np_array = np.array([[2,3],[1,4]])"
   ]
  },
  {
   "cell_type": "code",
   "execution_count": 34,
   "id": "3e016116",
   "metadata": {},
   "outputs": [],
   "source": [
    "tensor_np = torch.from_numpy(np_array)"
   ]
  },
  {
   "cell_type": "code",
   "execution_count": 23,
   "id": "8d29d61f",
   "metadata": {},
   "outputs": [],
   "source": [
    "np_other = np.array([[1,2],[2,4]])\n"
   ]
  },
  {
   "cell_type": "code",
   "execution_count": 24,
   "id": "a3df5d10",
   "metadata": {},
   "outputs": [
    {
     "name": "stdout",
     "output_type": "stream",
     "text": [
      "Now nparray:[[ 8 16]\n",
      " [ 9 18]]\n",
      "tensor np:tensor([[ 8, 16],\n",
      "        [ 9, 18]], dtype=torch.int32)\n"
     ]
    }
   ],
   "source": [
    "np.dot(np_array, np_other, out=np_array)\n",
    "print(f\"Now nparray:{np_array}\\ntensor np:{tensor_np}\")"
   ]
  },
  {
   "cell_type": "code",
   "execution_count": 25,
   "id": "146a1855",
   "metadata": {},
   "outputs": [],
   "source": [
    "tensor_other = torch.from_numpy(np_other)"
   ]
  },
  {
   "cell_type": "code",
   "execution_count": 31,
   "id": "06827d56",
   "metadata": {},
   "outputs": [
    {
     "name": "stdout",
     "output_type": "stream",
     "text": [
      "Now nparray:[[2 3]\n",
      " [1 4]]\n",
      "tensor np:tensor([[2, 3],\n",
      "        [1, 4]], dtype=torch.int32)\n"
     ]
    }
   ],
   "source": [
    "tensor_np = torch.from_numpy(np_array)\n",
    "print(f\"Now nparray:{np_array}\\ntensor np:{tensor_np}\")"
   ]
  },
  {
   "cell_type": "code",
   "execution_count": 16,
   "id": "c5d7224b",
   "metadata": {},
   "outputs": [
    {
     "name": "stdout",
     "output_type": "stream",
     "text": [
      "tensor([[2, 3],\n",
      "        [1, 4]], dtype=torch.int32) tensor([[ 8, 10],\n",
      "        [ 9,  3]], dtype=torch.int32)\n"
     ]
    }
   ],
   "source": [
    "tensor_np = torch.tensor([[2,3],[1,4]], dtype=torch.int32)\n",
    "tensor_np2 = torch.tensor([[8,10],[9,3]], dtype=torch.int32)\n",
    "print(tensor_np, tensor_np2)"
   ]
  },
  {
   "cell_type": "code",
   "execution_count": 21,
   "id": "2dd9f6d8",
   "metadata": {},
   "outputs": [
    {
     "name": "stdout",
     "output_type": "stream",
     "text": [
      "tensor([[605, 517],\n",
      "        [550, 506]], dtype=torch.int32)\n"
     ]
    }
   ],
   "source": [
    "new_tensor = torch.ones((2,2), dtype=torch.int32)\n",
    "# torch.mm(tensor_np, tensor_np2, out=tensor_np)\n",
    "tensor_np = torch.mm(tensor_np, tensor_np2, out=new_tensor)\n",
    "print(new_tensor)"
   ]
  },
  {
   "cell_type": "markdown",
   "id": "87cd2d04",
   "metadata": {},
   "source": [
    "## 如上，torch进行矩阵运算时，不可使用参与计算的变量作为out，会导致变量值错误\n"
   ]
  },
  {
   "cell_type": "code",
   "execution_count": 22,
   "id": "bbef3406",
   "metadata": {},
   "outputs": [
    {
     "ename": "NameError",
     "evalue": "name 'np_array' is not defined",
     "output_type": "error",
     "traceback": [
      "\u001b[1;31m---------------------------------------------------------------------------\u001b[0m",
      "\u001b[1;31mNameError\u001b[0m                                 Traceback (most recent call last)",
      "Cell \u001b[1;32mIn[22], line 1\u001b[0m\n\u001b[1;32m----> 1\u001b[0m \u001b[38;5;28mprint\u001b[39m(\u001b[38;5;124mf\u001b[39m\u001b[38;5;124m\"\u001b[39m\u001b[38;5;124mNow nparray:\u001b[39m\u001b[38;5;132;01m{\u001b[39;00mnp_array\u001b[38;5;132;01m}\u001b[39;00m\u001b[38;5;130;01m\\n\u001b[39;00m\u001b[38;5;124mtensor np:\u001b[39m\u001b[38;5;132;01m{\u001b[39;00mtensor_np\u001b[38;5;132;01m}\u001b[39;00m\u001b[38;5;124m\"\u001b[39m)\n",
      "\u001b[1;31mNameError\u001b[0m: name 'np_array' is not defined"
     ]
    }
   ],
   "source": [
    "print(f\"Now nparray:{np_array}\\ntensor np:{tensor_np}\")"
   ]
  },
  {
   "cell_type": "markdown",
   "id": "7327459f",
   "metadata": {},
   "source": [
    "## 使np.dot能够实现内存共享"
   ]
  },
  {
   "cell_type": "code",
   "execution_count": 1,
   "id": "1b221199",
   "metadata": {},
   "outputs": [
    {
     "ename": "NameError",
     "evalue": "name 'torch' is not defined",
     "output_type": "error",
     "traceback": [
      "\u001b[1;31m---------------------------------------------------------------------------\u001b[0m",
      "\u001b[1;31mNameError\u001b[0m                                 Traceback (most recent call last)",
      "Cell \u001b[1;32mIn[1], line 1\u001b[0m\n\u001b[1;32m----> 1\u001b[0m tensor_ones \u001b[38;5;241m=\u001b[39m \u001b[43mtorch\u001b[49m\u001b[38;5;241m.\u001b[39mones_like(tensor_np)\n\u001b[0;32m      2\u001b[0m tensor_rands \u001b[38;5;241m=\u001b[39m torch\u001b[38;5;241m.\u001b[39mrand_like(tensor_np, dtype\u001b[38;5;241m=\u001b[39mtorch\u001b[38;5;241m.\u001b[39mfloat)\n",
      "\u001b[1;31mNameError\u001b[0m: name 'torch' is not defined"
     ]
    }
   ],
   "source": [
    "tensor_ones = torch.ones_like(tensor_np)\n",
    "tensor_rands = torch.rand_like(tensor_np, dtype=torch.float)"
   ]
  },
  {
   "cell_type": "code",
   "execution_count": 44,
   "id": "0a58def5",
   "metadata": {},
   "outputs": [
    {
     "name": "stdout",
     "output_type": "stream",
     "text": [
      "ones_like:tensor([[1, 1],\n",
      "        [1, 1]], dtype=torch.int32), rand_like:tensor([[0.9145, 0.4618],\n",
      "        [0.7713, 0.8979]])\n"
     ]
    }
   ],
   "source": [
    "print(f\"ones_like:{tensor_ones}, rand_like:{tensor_rands}\")"
   ]
  },
  {
   "cell_type": "code",
   "execution_count": 45,
   "id": "736be0f3",
   "metadata": {},
   "outputs": [
    {
     "name": "stderr",
     "output_type": "stream",
     "text": [
      "C:\\Users\\hongx\\AppData\\Local\\Temp\\ipykernel_31112\\111225008.py:1: UserWarning: To copy construct from a tensor, it is recommended to use sourceTensor.clone().detach() or sourceTensor.clone().detach().requires_grad_(True), rather than torch.tensor(sourceTensor).\n",
      "  tensor_copy = torch.tensor(tensor_np)\n"
     ]
    }
   ],
   "source": [
    "tensor_copy = torch.tensor(tensor_np)"
   ]
  },
  {
   "cell_type": "code",
   "execution_count": 59,
   "id": "49b3f845",
   "metadata": {},
   "outputs": [
    {
     "data": {
      "text/plain": [
       "tensor([[16, 16],\n",
       "        [16, 16]], device='cuda:0', dtype=torch.int32)"
      ]
     },
     "execution_count": 59,
     "metadata": {},
     "output_type": "execute_result"
    }
   ],
   "source": [
    "torch.add(tensor_np, 2, out=tensor_np)"
   ]
  },
  {
   "cell_type": "code",
   "execution_count": 49,
   "id": "5a5c5b06",
   "metadata": {},
   "outputs": [],
   "source": [
    "tensor_copy = tensor_np.clone().detach()"
   ]
  },
  {
   "cell_type": "code",
   "execution_count": 52,
   "id": "06f31ed7",
   "metadata": {},
   "outputs": [
    {
     "name": "stdout",
     "output_type": "stream",
     "text": [
      "tensor([[0.1442, 0.7364, 0.9531],\n",
      "        [0.1996, 0.7469, 0.1518]])\n",
      "tensor([[1., 1., 1.],\n",
      "        [1., 1., 1.]])\n",
      "tensor([[0., 0., 0.],\n",
      "        [0., 0., 0.]])\n"
     ]
    }
   ],
   "source": [
    "shape = (2,3)\n",
    "rand_tensor = torch.rand(shape)\n",
    "ones_tensor = torch.ones(shape)\n",
    "zeros_tensor = torch.zeros(shape)\n",
    "\n",
    "print(f\"{rand_tensor}\\n{ones_tensor}\\n{zeros_tensor}\")"
   ]
  },
  {
   "cell_type": "code",
   "execution_count": 53,
   "id": "0133a66f",
   "metadata": {},
   "outputs": [
    {
     "name": "stdout",
     "output_type": "stream",
     "text": [
      "Shape:torch.Size([2, 3])\n",
      "dtype:torch.float32\n",
      "device:cpu\n"
     ]
    }
   ],
   "source": [
    "print(f\"Shape:{rand_tensor.shape}\\ndtype:{rand_tensor.dtype}\\ndevice:{rand_tensor.device}\")"
   ]
  },
  {
   "cell_type": "code",
   "execution_count": 23,
   "id": "b13dd2f6",
   "metadata": {},
   "outputs": [
    {
     "data": {
      "text/plain": [
       "True"
      ]
     },
     "execution_count": 23,
     "metadata": {},
     "output_type": "execute_result"
    }
   ],
   "source": [
    "torch.cuda.is_available()"
   ]
  },
  {
   "cell_type": "code",
   "execution_count": 24,
   "id": "8f723fb3",
   "metadata": {},
   "outputs": [],
   "source": [
    "# 使用tensor.to(\"cuda\")来实现转换为cuda变量\n",
    "tensor_np =tensor_np.to(\"cuda\")"
   ]
  },
  {
   "cell_type": "code",
   "execution_count": 25,
   "id": "9a7770ab",
   "metadata": {},
   "outputs": [
    {
     "data": {
      "text/plain": [
       "tensor([[605, 517],\n",
       "        [550, 506]], device='cuda:0', dtype=torch.int32)"
      ]
     },
     "execution_count": 25,
     "metadata": {},
     "output_type": "execute_result"
    }
   ],
   "source": [
    "tensor_np"
   ]
  },
  {
   "cell_type": "code",
   "execution_count": 28,
   "id": "431eb734",
   "metadata": {},
   "outputs": [
    {
     "name": "stdout",
     "output_type": "stream",
     "text": [
      "NVIDIA GeForce RTX 4070 Laptop GPU\n"
     ]
    }
   ],
   "source": [
    "for i in range(torch.cuda.device_count()):\n",
    "    print(torch.cuda.get_device_name(i))"
   ]
  },
  {
   "cell_type": "markdown",
   "id": "463d7e3e",
   "metadata": {},
   "source": [
    "## Tensor To cuda之后会失去和numpy的联系"
   ]
  },
  {
   "cell_type": "code",
   "execution_count": 60,
   "id": "5d034c08",
   "metadata": {},
   "outputs": [],
   "source": [
    "tensor_new = torch.randint(1, 100, (3,5))"
   ]
  },
  {
   "cell_type": "code",
   "execution_count": 66,
   "id": "0bbfd908",
   "metadata": {},
   "outputs": [
    {
     "name": "stdout",
     "output_type": "stream",
     "text": [
      "Full: tensor([[19, 80, 28, 74, 22],\n",
      "        [99, 52, 11, 54, 42],\n",
      "        [56, 43, 82, 99, 81]])\n",
      "First Row:tensor([19, 80, 28, 74, 22])\n",
      "First Column:tensor([19])\n",
      "Last Column:tensor([22, 42, 81])\n"
     ]
    }
   ],
   "source": [
    "print(f\"Full: {tensor_new}\\nFirst Row:{tensor_new[0,:]}\\nFirst Column:{tensor_new[:,0]}\\nLast Column:{tensor_new[:,-1]}\")"
   ]
  },
  {
   "cell_type": "code",
   "execution_count": 67,
   "id": "ccb07528",
   "metadata": {},
   "outputs": [
    {
     "name": "stdout",
     "output_type": "stream",
     "text": [
      "隔两列归零：tensor([[ 0, 80,  0, 74,  0],\n",
      "        [ 0, 52,  0, 54,  0],\n",
      "        [ 0, 43,  0, 99,  0]])\n"
     ]
    }
   ],
   "source": [
    "tensor_new[:,::2] = 0\n",
    "print(f\"隔两列归零：{tensor_new}\")"
   ]
  },
  {
   "cell_type": "code",
   "execution_count": 68,
   "id": "6c51c256",
   "metadata": {},
   "outputs": [],
   "source": [
    "tensor_new = torch.randint(10, 20, (5,3))\n",
    "tensor_new_2 = torch.randint(30,60, (5,4))\n",
    "tensor_new_3 = torch.randint(70,100, (5,3))"
   ]
  },
  {
   "cell_type": "code",
   "execution_count": 73,
   "id": "6d00bb14",
   "metadata": {},
   "outputs": [],
   "source": [
    "t_all = torch.cat([tensor_new, tensor_new_2, tensor_new_3], dim=1)"
   ]
  },
  {
   "cell_type": "code",
   "execution_count": 74,
   "id": "b392fdc9",
   "metadata": {},
   "outputs": [
    {
     "data": {
      "text/plain": [
       "tensor([[15, 14, 14, 57, 40, 48, 47, 82, 77, 99],\n",
       "        [16, 12, 19, 32, 40, 48, 46, 95, 91, 97],\n",
       "        [12, 16, 12, 49, 56, 46, 59, 74, 86, 97],\n",
       "        [14, 12, 12, 51, 40, 51, 50, 78, 71, 99],\n",
       "        [14, 19, 14, 31, 32, 55, 55, 79, 85, 80]])"
      ]
     },
     "execution_count": 74,
     "metadata": {},
     "output_type": "execute_result"
    }
   ],
   "source": [
    "t_all"
   ]
  },
  {
   "cell_type": "code",
   "execution_count": 75,
   "id": "8c183350",
   "metadata": {},
   "outputs": [
    {
     "name": "stdout",
     "output_type": "stream",
     "text": [
      "tensor([[ 4,  2,  3],\n",
      "        [ 1,  3,  4],\n",
      "        [ 3,  1,  3],\n",
      "        [ 3,  4,  4],\n",
      "        [ 3,  4,  4],\n",
      "        [13, 14, 17],\n",
      "        [14, 15, 11],\n",
      "        [11, 18, 17],\n",
      "        [10, 17, 11],\n",
      "        [50, 48, 59],\n",
      "        [43, 41, 43],\n",
      "        [48, 46, 53]])\n"
     ]
    }
   ],
   "source": [
    "tensor_row_new = torch.randint(1,5, (5,3))\n",
    "tensor_row_new_2 = torch.randint(10,20, (4,3))\n",
    "tensor_row_new_3 = torch.randint(40,60,(3,3))\n",
    "t_row_all = torch.cat([tensor_row_new, tensor_row_new_2, tensor_row_new_3], dim=0)\n",
    "print(t_row_all)"
   ]
  },
  {
   "cell_type": "markdown",
   "id": "f6035832",
   "metadata": {},
   "source": [
    "## torch的cat函数，dim为几，第几维度的大小就会发生变化，即在第几维上拼接"
   ]
  },
  {
   "cell_type": "code",
   "execution_count": 76,
   "id": "3c57f684",
   "metadata": {},
   "outputs": [],
   "source": [
    "tensor_for_calc = torch.randint(10,20, (5,3))"
   ]
  },
  {
   "cell_type": "code",
   "execution_count": 80,
   "id": "0a3be76f",
   "metadata": {},
   "outputs": [
    {
     "name": "stdout",
     "output_type": "stream",
     "text": [
      "origin: tensor([[17, 13, 11],\n",
      "        [18, 13, 11],\n",
      "        [12, 14, 19],\n",
      "        [13, 19, 15],\n",
      "        [19, 17, 14]])\n",
      ".T: tensor([[17, 18, 12, 13, 19],\n",
      "        [13, 13, 14, 19, 17],\n",
      "        [11, 11, 19, 15, 14]])\n",
      ".transpose: tensor([[17, 18, 12, 13, 19],\n",
      "        [13, 13, 14, 19, 17],\n",
      "        [11, 11, 19, 15, 14]])\n",
      "tensor([[579, 596, 595, 633, 698],\n",
      "        [596, 614, 607, 646, 717],\n",
      "        [595, 607, 701, 707, 732],\n",
      "        [633, 646, 707, 755, 780],\n",
      "        [698, 717, 732, 780, 846]])\n",
      "tensor([[579, 596, 595, 633, 698],\n",
      "        [596, 614, 607, 646, 717],\n",
      "        [595, 607, 701, 707, 732],\n",
      "        [633, 646, 707, 755, 780],\n",
      "        [698, 717, 732, 780, 846]])\n",
      "tensor([[579, 596, 595, 633, 698],\n",
      "        [596, 614, 607, 646, 717],\n",
      "        [595, 607, 701, 707, 732],\n",
      "        [633, 646, 707, 755, 780],\n",
      "        [698, 717, 732, 780, 846]])\n",
      "tensor([[579, 596, 595, 633, 698],\n",
      "        [596, 614, 607, 646, 717],\n",
      "        [595, 607, 701, 707, 732],\n",
      "        [633, 646, 707, 755, 780],\n",
      "        [698, 717, 732, 780, 846]])\n"
     ]
    }
   ],
   "source": [
    "y1 = tensor_for_calc @ tensor_for_calc.T\n",
    "y2 = tensor_for_calc.matmul(tensor_for_calc.T)\n",
    "y3 = tensor_for_calc.mm(tensor_for_calc.T)\n",
    "y4 = tensor_for_calc.matmul(tensor_for_calc.transpose(0, 1))\n",
    "print(f\"origin: {tensor_for_calc}\\n.T: {tensor_for_calc.T}\\n.transpose: {tensor_for_calc.transpose(0,1)}\\n{y1}\\n{y2}\\n{y3}\\n{y4}\")"
   ]
  },
  {
   "cell_type": "code",
   "execution_count": 83,
   "id": "f76c602c",
   "metadata": {},
   "outputs": [
    {
     "name": "stdout",
     "output_type": "stream",
     "text": [
      "ori:tensor([[1, 1, 1, 2],\n",
      "        [3, 3, 3, 2],\n",
      "        [1, 2, 1, 3]])\n",
      "tensor([[1, 1, 1, 4],\n",
      "        [9, 9, 9, 4],\n",
      "        [1, 4, 1, 9]])\n",
      "tensor([[1, 1, 1, 4],\n",
      "        [9, 9, 9, 4],\n",
      "        [1, 4, 1, 9]])\n",
      "tensor([[1, 1, 1, 4],\n",
      "        [9, 9, 9, 4],\n",
      "        [1, 4, 1, 9]])\n"
     ]
    }
   ],
   "source": [
    "tensor_calc_2 = torch.randint(1,4, (3,4))\n",
    "z1 = tensor_calc_2 * tensor_calc_2\n",
    "z2 = tensor_calc_2.mul(tensor_calc_2)\n",
    "z3 = torch.ones_like(tensor_calc_2)\n",
    "\n",
    "torch.mul(tensor_calc_2, tensor_calc_2, out=z3)\n",
    "\n",
    "print(f\"ori:{tensor_calc_2}\\n{z1}\\n{z2}\\n{z3}\")"
   ]
  },
  {
   "cell_type": "code",
   "execution_count": 84,
   "id": "c080709f",
   "metadata": {},
   "outputs": [
    {
     "name": "stdout",
     "output_type": "stream",
     "text": [
      "torch.LongTensor\n",
      "<class 'torch.Tensor'>\n",
      "<class 'int'>\n"
     ]
    }
   ],
   "source": [
    "total = tensor_calc_2.sum()\n",
    "total_item = total.item()\n",
    "print(f\"{total.type()}\\n{type(total)}\\n{type(total_item)}\")"
   ]
  },
  {
   "cell_type": "code",
   "execution_count": 85,
   "id": "c3c4f252",
   "metadata": {},
   "outputs": [
    {
     "name": "stdout",
     "output_type": "stream",
     "text": [
      "tensor([[1, 1, 1, 2],\n",
      "        [3, 3, 3, 2],\n",
      "        [1, 2, 1, 3]])\n",
      "tensor([[1, 3, 1],\n",
      "        [1, 3, 2],\n",
      "        [1, 3, 1],\n",
      "        [2, 2, 3]])\n",
      "tensor([[31, 33, 31],\n",
      "        [31, 33, 32],\n",
      "        [31, 33, 31],\n",
      "        [32, 32, 33]])\n"
     ]
    }
   ],
   "source": [
    "print(tensor_calc_2)\n",
    "tensor_calc_2.t_()\n",
    "print(tensor_calc_2)\n",
    "tensor_calc_2.add_(30)\n",
    "print(tensor_calc_2)"
   ]
  },
  {
   "cell_type": "markdown",
   "id": "7de68373",
   "metadata": {},
   "source": [
    "## 操作函数后面加下划线的效果相当于op="
   ]
  },
  {
   "cell_type": "code",
   "execution_count": 86,
   "id": "e1d60a85",
   "metadata": {},
   "outputs": [
    {
     "name": "stdout",
     "output_type": "stream",
     "text": [
      "[[31 33 31]\n",
      " [31 33 32]\n",
      " [31 33 31]\n",
      " [32 32 33]]\n",
      "[[34 36 34]\n",
      " [34 36 35]\n",
      " [34 36 34]\n",
      " [35 35 36]]\n",
      "type of np_bridge:<class 'numpy.ndarray'>\n"
     ]
    }
   ],
   "source": [
    "np_bridge = tensor_calc_2.numpy()\n",
    "print(np_bridge)\n",
    "tensor_calc_2.add_(3)\n",
    "print(np_bridge)\n",
    "print(f\"type of np_bridge:{type(np_bridge)}\")\n"
   ]
  },
  {
   "cell_type": "code",
   "execution_count": 87,
   "id": "9bd3751f",
   "metadata": {},
   "outputs": [],
   "source": [
    "np_bridge += 6"
   ]
  },
  {
   "cell_type": "code",
   "execution_count": 88,
   "id": "dbed434a",
   "metadata": {},
   "outputs": [
    {
     "name": "stdout",
     "output_type": "stream",
     "text": [
      "tensor([[40, 42, 40],\n",
      "        [40, 42, 41],\n",
      "        [40, 42, 40],\n",
      "        [41, 41, 42]])\n"
     ]
    }
   ],
   "source": [
    "print(tensor_calc_2)"
   ]
  },
  {
   "cell_type": "code",
   "execution_count": 89,
   "id": "b25d5fc3",
   "metadata": {},
   "outputs": [
    {
     "ename": "TypeError",
     "evalue": "can't convert cuda:0 device type tensor to numpy. Use Tensor.cpu() to copy the tensor to host memory first.",
     "output_type": "error",
     "traceback": [
      "\u001b[1;31m---------------------------------------------------------------------------\u001b[0m",
      "\u001b[1;31mTypeError\u001b[0m                                 Traceback (most recent call last)",
      "Cell \u001b[1;32mIn[89], line 2\u001b[0m\n\u001b[0;32m      1\u001b[0m tensor_cuda \u001b[38;5;241m=\u001b[39m tensor_calc_2\u001b[38;5;241m.\u001b[39mto(\u001b[38;5;124m\"\u001b[39m\u001b[38;5;124mcuda\u001b[39m\u001b[38;5;124m\"\u001b[39m)\n\u001b[1;32m----> 2\u001b[0m np_cuda_bridge \u001b[38;5;241m=\u001b[39m \u001b[43mtensor_cuda\u001b[49m\u001b[38;5;241;43m.\u001b[39;49m\u001b[43mnumpy\u001b[49m\u001b[43m(\u001b[49m\u001b[43m)\u001b[49m\n\u001b[0;32m      4\u001b[0m \u001b[38;5;28mprint\u001b[39m(\u001b[38;5;124mf\u001b[39m\u001b[38;5;124m\"\u001b[39m\u001b[38;5;124mtensor_cuda:\u001b[39m\u001b[38;5;132;01m{\u001b[39;00mtensor_cuda\u001b[38;5;132;01m}\u001b[39;00m\u001b[38;5;124m, np_cuda_bridge:\u001b[39m\u001b[38;5;132;01m{\u001b[39;00mnp_cuda_bridge\u001b[38;5;132;01m}\u001b[39;00m\u001b[38;5;124m\"\u001b[39m)\n",
      "\u001b[1;31mTypeError\u001b[0m: can't convert cuda:0 device type tensor to numpy. Use Tensor.cpu() to copy the tensor to host memory first."
     ]
    }
   ],
   "source": [
    "tensor_cuda = tensor_calc_2.to(\"cuda\")\n",
    "np_cuda_bridge = tensor_cuda.numpy()\n",
    "\n",
    "print(f\"tensor_cuda:{tensor_cuda}, np_cuda_bridge:{np_cuda_bridge}\")"
   ]
  },
  {
   "cell_type": "code",
   "execution_count": 91,
   "id": "67130c35",
   "metadata": {},
   "outputs": [
    {
     "name": "stdout",
     "output_type": "stream",
     "text": [
      "tensor_cuda:tensor([[40, 42, 40],\n",
      "        [40, 42, 41],\n",
      "        [40, 42, 40],\n",
      "        [41, 41, 42]], device='cuda:0'), np_cuda_bridge:[[43 45 43]\n",
      " [43 45 44]\n",
      " [43 45 43]\n",
      " [44 44 45]]\n"
     ]
    }
   ],
   "source": [
    "np_cuda_bridge = tensor_cuda.cpu().numpy()\n",
    "np_cuda_bridge += 3\n",
    "\n",
    "print(f\"tensor_cuda:{tensor_cuda}, np_cuda_bridge:{np_cuda_bridge}\")"
   ]
  },
  {
   "cell_type": "markdown",
   "id": "da3488e3",
   "metadata": {},
   "source": [
    "## np bridge和tensor共享内存,但cuda中存储的tensor无法直接转换成np,使用.cpu()转换之后就失去了内存共享特性"
   ]
  },
  {
   "cell_type": "code",
   "execution_count": 30,
   "id": "62f1eb73",
   "metadata": {},
   "outputs": [
    {
     "data": {
      "text/plain": [
       "'NVIDIA GeForce RTX 4070 Laptop GPU'"
      ]
     },
     "execution_count": 30,
     "metadata": {},
     "output_type": "execute_result"
    }
   ],
   "source": [
    "torch.cuda.get_device_name()\n"
   ]
  },
  {
   "cell_type": "code",
   "execution_count": 95,
   "id": "8bef5bd9",
   "metadata": {},
   "outputs": [
    {
     "data": {
      "text/plain": [
       "'Intel64 Family 6 Model 183 Stepping 1, GenuineIntel'"
      ]
     },
     "execution_count": 95,
     "metadata": {},
     "output_type": "execute_result"
    }
   ],
   "source": [
    "import platform\n",
    "platform.processor()"
   ]
  }
 ],
 "metadata": {
  "kernelspec": {
   "display_name": "Python 3 (ipykernel)",
   "language": "python",
   "name": "python3"
  },
  "language_info": {
   "codemirror_mode": {
    "name": "ipython",
    "version": 3
   },
   "file_extension": ".py",
   "mimetype": "text/x-python",
   "name": "python",
   "nbconvert_exporter": "python",
   "pygments_lexer": "ipython3",
   "version": "3.10.9"
  }
 },
 "nbformat": 4,
 "nbformat_minor": 5
}

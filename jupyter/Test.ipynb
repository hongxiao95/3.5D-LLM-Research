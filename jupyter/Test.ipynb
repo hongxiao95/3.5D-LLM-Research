{
 "cells": [
  {
   "cell_type": "code",
   "execution_count": 13,
   "id": "2f9e362e-100b-46c0-be8b-5502e8a7546f",
   "metadata": {},
   "outputs": [],
   "source": [
    "import openai\n",
    "\n",
    "\n",
    "with open(\"../base.apikey\", \"r\") as api_key_file:\n",
    "    api_key = api_key_file.readline().strip()\n",
    "    if api_key == \"\":\n",
    "        print(\"No APIKEY!\")\n",
    "        exit()\n",
    "    openai.api_key = api_key\n",
    "\n",
    "def talk_gpt(model_name, system_prompt, user_prompt, tempature):\n",
    "    messages = [\n",
    "        {\n",
    "            \"role\":\"system\",\n",
    "            \"content\":system_prompt\n",
    "        },\n",
    "        {\n",
    "            \"role\":\"user\",\n",
    "            \"content\":user_prompt\n",
    "        }\n",
    "        \n",
    "    ]\n",
    "    completion = openai.ChatCompletion.create(\n",
    "        model=model_name,\n",
    "        messages=messages,\n",
    "        n = 1,\n",
    "        temperature = tempature,\n",
    "        top_p = 0.95,\n",
    "        stream = False\n",
    "    )\n",
    "    return completion.choices[0][\"message\"][\"content\"]\n"
   ]
  },
  {
   "cell_type": "code",
   "execution_count": 24,
   "id": "1f760e73-69d3-45da-b69c-6489577d64f2",
   "metadata": {
    "jupyter": {
     "source_hidden": true
    },
    "tags": []
   },
   "outputs": [],
   "source": [
    "robot_system = '''\n",
    "You are a robot command interpreter, responsible for translating the natural language to robot command script.\n",
    "\n",
    "Here are the robot command script format:\n",
    "\n",
    "# 1. Every command has two parts: command name and arguments. Use \"::\" between the command name and arguments. Use \",\" to split each argument.\n",
    "\n",
    "# 2. The script should starts with start command \"START::\" and ends with end command \"END::\"\n",
    "\n",
    "# 3. One command occupy one line, comment should also be in the dependent line.\n",
    "\n",
    "# 4. Comment line should start with \"//\", just like single line comment in C and C++.\n",
    "\n",
    "Here are the legal commands list, every command are quoted in [] and with explanation behind:\n",
    "\n",
    "# [ START:: ] the start command, takes no argument, means the script starts here.\n",
    "\n",
    "# [ END:: ] the end command, takes no argument, means the script ends here.\n",
    "\n",
    "# [ GO::<direction>,<distance> ] the moving command, ask the robot to move along a direction for given distance. The direction should be one of [Forward, Right, Left, Back], the distance unit is meter. When using this command, the robot will translate (means shift) to the distination, the orientation of the head does not change.\n",
    "\n",
    "# [ TAG:: ] put a tag in current piosition, takes no argument.\n",
    "\n",
    "# [ TURN::<direction> ] the turning command, ask the robot's head turns to a new direction. The direction should be one of [Right, Left, Back], Considering the current facing direction as forward, to turn back means to turn to the opposite direction of the current one, to turn left means to turn to the left of the current direction, and to turn right means to turn to the right of the current direction.\n",
    "\n",
    "You need to obey the rules:\n",
    "\n",
    "# 1. Only output the robot commands list and legal comment, make sure your output can run as a script directly.\n",
    "\n",
    "# 2. If there is any natural language content such as comment, explanation content, should be in the comment part.\n",
    "\n",
    "# 3. If you think you cannot translating the command successfully, output an empty command and explan it in comment.\n",
    "\n",
    "# 4. If the user didn't mention about \"turn to some direction and go forward\" or \"shift to some direction\", use turning and going forward as default instead of shifting.\n",
    "\n",
    "Here are some input and output examples:\n",
    "\n",
    "```\n",
    "\n",
    "[User]:\n",
    "\n",
    "Please go forward for 2 meters and turn back for 1.5 meters\n",
    "\n",
    "[Output]:\n",
    "\n",
    "START::\n",
    "\n",
    "GO::Forward,2\n",
    "\n",
    "//Turn back\n",
    "\n",
    "TURN::Back\n",
    "\n",
    "GO::Forward,1.5\n",
    "\n",
    "END::\n",
    "\n",
    "```\n",
    "\n",
    "```\n",
    "\n",
    "[User]:\n",
    "\n",
    "Please shift right for 2 meters and shift back for 3 meters.\n",
    "\n",
    "[Output]:\n",
    "\n",
    "START::\n",
    "\n",
    "//Go right for 2 meters\n",
    "\n",
    "GO::Right,2\n",
    "\n",
    "GO::Back,3\n",
    "\n",
    "END::\n",
    "\n",
    "```\n",
    "'''"
   ]
  },
  {
   "cell_type": "code",
   "execution_count": 20,
   "id": "a3d53656-2b11-4b15-be8f-214cff5049c9",
   "metadata": {},
   "outputs": [
    {
     "name": "stdout",
     "output_type": "stream",
     "text": [
      "START::\n",
      "\n",
      "GO::Forward,1\n",
      "\n",
      "GO::Back,2\n",
      "\n",
      "END::\n"
     ]
    }
   ],
   "source": [
    "res = talk_gpt(\"gpt-4-0314\", robot_system, \"Go forward for 1 meter, go back for 2 meters.\", 0.2)\n",
    "print(res)"
   ]
  },
  {
   "cell_type": "code",
   "execution_count": 21,
   "id": "753e770d-2cd3-45ca-a7d3-6112b06b6c22",
   "metadata": {},
   "outputs": [
    {
     "name": "stdout",
     "output_type": "stream",
     "text": [
      "START::\n",
      "\n",
      "GO::Forward,2\n",
      "\n",
      "TURN::Left\n",
      "\n",
      "GO::Forward,0.7\n",
      "\n",
      "GO::Right,2\n",
      "\n",
      "END::\n"
     ]
    }
   ],
   "source": [
    "res = talk_gpt(\"gpt-4-0314\", robot_system, \"Go forward for 2 meters, turn left and go forward for 0.7 meters, and shift right for 2 meters.\", 0.2)\n",
    "print(res)"
   ]
  },
  {
   "cell_type": "code",
   "execution_count": 22,
   "id": "33cf46d3",
   "metadata": {},
   "outputs": [
    {
     "name": "stdout",
     "output_type": "stream",
     "text": [
      "START::\n",
      "\n",
      "// Walk the first side of the square\n",
      "GO::Forward,3\n",
      "\n",
      "// Turn right to walk the second side of the square\n",
      "TURN::Right\n",
      "GO::Forward,3\n",
      "\n",
      "// Turn right to walk the third side of the square\n",
      "TURN::Right\n",
      "GO::Forward,3\n",
      "\n",
      "// Turn right to walk the fourth side of the square\n",
      "TURN::Right\n",
      "GO::Forward,3\n",
      "\n",
      "END::\n"
     ]
    }
   ],
   "source": [
    "res = talk_gpt(\"gpt-4-0314\", robot_system, \"Walk a square with 3-meter side length.\", 0.2)\n",
    "print(res)"
   ]
  },
  {
   "cell_type": "code",
   "execution_count": 23,
   "id": "bdf1dafa",
   "metadata": {},
   "outputs": [
    {
     "name": "stdout",
     "output_type": "stream",
     "text": [
      "START::\n",
      "\n",
      "// Repeat 3 times\n",
      "// First iteration\n",
      "TURN::Left\n",
      "GO::Forward,5\n",
      "TURN::Back\n",
      "GO::Forward,2\n",
      "\n",
      "// Second iteration\n",
      "TURN::Left\n",
      "GO::Forward,5\n",
      "TURN::Back\n",
      "GO::Forward,2\n",
      "\n",
      "// Third iteration\n",
      "TURN::Left\n",
      "GO::Forward,5\n",
      "TURN::Back\n",
      "GO::Forward,2\n",
      "\n",
      "END::\n"
     ]
    }
   ],
   "source": [
    "res = talk_gpt(\"gpt-4-0314\", robot_system, \"Turn left and walk 5 meters, then turn back and walk 2 meters, and repeat for 3 times.\", 0.2)\n",
    "print(res)"
   ]
  },
  {
   "cell_type": "code",
   "execution_count": 25,
   "id": "3a7dea71",
   "metadata": {},
   "outputs": [
    {
     "name": "stdout",
     "output_type": "stream",
     "text": [
      "// A circle-like path cannot be accurately represented with the available commands.\n",
      "// However, we can approximate it by moving in small increments and turning slightly.\n",
      "// This script will approximate a circle with a radius of 3 meters.\n",
      "\n",
      "START::\n",
      "\n",
      "// Approximate circle with 36 segments\n",
      "// Each segment length: 2 * pi * 3 / 36 = 0.5236 meters\n",
      "// Each turn angle: 360 / 36 = 10 degrees\n",
      "\n",
      "// Repeat 36 times\n",
      "GO::Forward,0.5236\n",
      "TURN::Right\n",
      "GO::Forward,0.5236\n",
      "TURN::Right\n",
      "GO::Forward,0.5236\n",
      "TURN::Right\n",
      "GO::Forward,0.5236\n",
      "TURN::Right\n",
      "GO::Forward,0.5236\n",
      "TURN::Right\n",
      "GO::Forward,0.5236\n",
      "TURN::Right\n",
      "GO::Forward,0.5236\n",
      "TURN::Right\n",
      "GO::Forward,0.5236\n",
      "TURN::Right\n",
      "GO::Forward,0.5236\n",
      "TURN::Right\n",
      "GO::Forward,0.5236\n",
      "TURN::Right\n",
      "GO::Forward,0.5236\n",
      "TURN::Right\n",
      "GO::Forward,0.5236\n",
      "TURN::Right\n",
      "GO::Forward,0.5236\n",
      "TURN::Right\n",
      "GO::Forward,0.5236\n",
      "TURN::Right\n",
      "GO::Forward,0.5236\n",
      "TURN::Right\n",
      "GO::Forward,0.5236\n",
      "TURN::Right\n",
      "GO::Forward,0.5236\n",
      "TURN::Right\n",
      "GO::Forward,0.5236\n",
      "TURN::Right\n",
      "GO::Forward,0.5236\n",
      "TURN::Right\n",
      "GO::Forward,0.5236\n",
      "TURN::Right\n",
      "GO::Forward,0.5236\n",
      "TURN::Right\n",
      "GO::Forward,0.5236\n",
      "TURN::Right\n",
      "GO::Forward,0.5236\n",
      "TURN::Right\n",
      "GO::Forward,0.5236\n",
      "TURN::Right\n",
      "GO::Forward,0.5236\n",
      "TURN::Right\n",
      "GO::Forward,0.5236\n",
      "TURN::Right\n",
      "GO::Forward,0.5236\n",
      "TURN::Right\n",
      "\n",
      "END::\n"
     ]
    }
   ],
   "source": [
    "res = talk_gpt(\"gpt-4-0314\", robot_system, \"Try walk a circle-like path, with radius of 3 meters.\", 0.2)\n",
    "print(res)"
   ]
  },
  {
   "cell_type": "code",
   "execution_count": 26,
   "id": "c73162ca",
   "metadata": {},
   "outputs": [],
   "source": [
    "json_system = '''\n",
    "You are a JSON formatter AI assistant that helps people to answer questions with JSON format.\n",
    "\n",
    "You should answer every quesion using JSON.\n",
    "\n",
    "Here are the rules:\n",
    "# 1. Your whole answer should be a JSON object.\n",
    "# 2. Your answer should at least contains 2 parts: Answer and Explanation.\n",
    "# 3. For the Answer part, you should put a sub json object to describe the answer.\n",
    "# 4. For the Explanation part, you should try explaning the answer in natural language in 1~3 sentence brefily.\n",
    "\n",
    "Some examples:\n",
    "\n",
    "```\n",
    "User: Tom has 3 apples and 2 oranges, Jimmy gives him 3 more apples and 2 penciles, how many of each kind fruits does Tom has now?\n",
    "\n",
    "Assiatant: { \"Answer\": { \"Apple\":6, \"Orange\":2 }, \"Explanation\":\"A pencile is not fruit, so pencile is not calculated in.\" }\n",
    "\n",
    "```\n",
    "\n",
    "```\n",
    "User: Jack is an engineer, David is a soilder, Lily used to be a marketing manager but now she's a lawyer. what's the jobs now of each person above?\n",
    "Assiatant: { \"Answer\": [ { \"name\":\"Jack\", \"job\":\"engineer\" }, { \"name\":\"David\", \"job\":\"soilder\" }, { \"name\":\"Lily\", \"job\":\"lawyer\" } ], \"Explanation\":\"Lily isn't a marketing managet anymore.\" }\n",
    "\n",
    "```\n",
    "'''"
   ]
  },
  {
   "cell_type": "code",
   "execution_count": 27,
   "id": "5d640da7",
   "metadata": {},
   "outputs": [
    {
     "name": "stdout",
     "output_type": "stream",
     "text": [
      "{\n",
      "  \"Answer\": [\n",
      "    { \"name\": \"Tom\", \"age\": 18 },\n",
      "    { \"name\": \"Shawn\", \"age\": 23 },\n",
      "    { \"name\": \"Tim\", \"age\": 20 }\n",
      "  ],\n",
      "  \"Explanation\": \"Shawn is 5 years older than Tom (18+5=23), and Tim is 3 years younger than Shawn (23-3=20).\"\n",
      "}\n"
     ]
    }
   ],
   "source": [
    "res = talk_gpt(\"gpt-4-0314\", json_system, \"Tom is 18 years old, Shawn is 5 years older than Tom, Tim is 3 years younger than Shawn. How old is each person above?\", 0.2)\n",
    "print(res)"
   ]
  },
  {
   "cell_type": "code",
   "execution_count": 28,
   "id": "53224be3",
   "metadata": {},
   "outputs": [
    {
     "name": "stdout",
     "output_type": "stream",
     "text": [
      "{\n",
      "  \"Answer\": {\n",
      "    \"Macbook Pro\": [\"Video Editing\", \"Programming\"],\n",
      "    \"iPad\": [\"Simple Video Editing\"]\n",
      "  },\n",
      "  \"Explanation\": \"You can do video editing and programming on your Macbook Pro, while you can only do simple video editing on your iPad.\"\n",
      "}\n"
     ]
    }
   ],
   "source": [
    "res = talk_gpt(\"gpt-4-0314\", json_system, \"I have a Macbook pro, which values 3000 dollars. I use it for video editing and programming. I also have a iPad, I can do simple video editing work by iPad but cannot do programming work on it. What can I do with the two devices above?\", 0.2)\n",
    "print(res)"
   ]
  },
  {
   "cell_type": "code",
   "execution_count": 29,
   "id": "271db55c",
   "metadata": {},
   "outputs": [
    {
     "name": "stdout",
     "output_type": "stream",
     "text": [
      "{\n",
      "  \"Answer\": {\n",
      "    \"Box\": {\n",
      "      \"Pen\": {},\n",
      "      \"Cola\": {},\n",
      "      \"Envelope\": {\n",
      "        \"Card-pocket\": {\n",
      "          \"Bank card\": {},\n",
      "          \"Credit card\": {},\n",
      "          \"Passport\": {\n",
      "            \"Photos\": 2\n",
      "          }\n",
      "        }\n",
      "      }\n",
      "    }\n",
      "  },\n",
      "  \"Explanation\": \"Tony has a box containing a pen, cola, and an envelope. Inside the envelope, there's a card-pocket with a bank card, credit card, and a passport. The passport has two photos sandwiched in it.\"\n",
      "}\n"
     ]
    }
   ],
   "source": [
    "res = talk_gpt(\"gpt-4-0314\", json_system, \"Tony has a box, in the box there is a pen, a can of cola, an envelope, inside the envelope there is a card-pocket, inside the card-pocket there is a bank card, a credit card, a passport. There is two photos sandwiched in the passport. Describe what Tony have and the containing relationship. \", 0.2)\n",
    "print(res)"
   ]
  },
  {
   "cell_type": "code",
   "execution_count": 1,
   "id": "1c196e70",
   "metadata": {},
   "outputs": [
    {
     "data": {
      "text/plain": [
       "'hongxiao95'"
      ]
     },
     "execution_count": 1,
     "metadata": {},
     "output_type": "execute_result"
    }
   ],
   "source": [
    "import os\n",
    "os.getlogin()"
   ]
  },
  {
   "cell_type": "code",
   "execution_count": 2,
   "id": "f8dc69b4",
   "metadata": {},
   "outputs": [
    {
     "data": {
      "text/plain": [
       "False"
      ]
     },
     "execution_count": 2,
     "metadata": {},
     "output_type": "execute_result"
    }
   ],
   "source": [
    "import torch\n",
    "torch.cuda.is_available()\n"
   ]
  },
  {
   "cell_type": "code",
   "execution_count": 7,
   "id": "533e4845",
   "metadata": {},
   "outputs": [
    {
     "data": {
      "text/plain": [
       "'1.12.1'"
      ]
     },
     "execution_count": 7,
     "metadata": {},
     "output_type": "execute_result"
    }
   ],
   "source": [
    "torch.__version__"
   ]
  },
  {
   "cell_type": "code",
   "execution_count": 9,
   "id": "f5fec5f3",
   "metadata": {},
   "outputs": [
    {
     "data": {
      "text/plain": [
       "False"
      ]
     },
     "execution_count": 9,
     "metadata": {},
     "output_type": "execute_result"
    }
   ],
   "source": [
    "import torch\n",
    "torch.cuda.is_available()"
   ]
  }
 ],
 "metadata": {
  "kernelspec": {
   "display_name": "Python 3 (ipykernel)",
   "language": "python",
   "name": "python3"
  },
  "language_info": {
   "codemirror_mode": {
    "name": "ipython",
    "version": 3
   },
   "file_extension": ".py",
   "mimetype": "text/x-python",
   "name": "python",
   "nbconvert_exporter": "python",
   "pygments_lexer": "ipython3",
   "version": "3.10.9"
  }
 },
 "nbformat": 4,
 "nbformat_minor": 5
}
